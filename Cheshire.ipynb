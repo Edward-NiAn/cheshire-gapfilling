{
  "cells": [
    {
      "cell_type": "markdown",
      "metadata": {
        "id": "view-in-github",
        "colab_type": "text"
      },
      "source": [
        "<a href=\"https://colab.research.google.com/github/Edward-NiAn/cheshire-gapfilling/blob/main/Cheshire.ipynb\" target=\"_parent\"><img src=\"https://colab.research.google.com/assets/colab-badge.svg\" alt=\"Open In Colab\"/></a>"
      ]
    },
    {
      "cell_type": "code",
      "execution_count": 9,
      "metadata": {
        "colab": {
          "base_uri": "https://localhost:8080/"
        },
        "id": "b0Uc0P6TT0lA",
        "outputId": "28365966-1e41-4d34-ec9b-14cf92b3e1da"
      },
      "outputs": [
        {
          "output_type": "stream",
          "name": "stdout",
          "text": [
            "Cloning into 'cheshire-gapfilling'...\n",
            "remote: Enumerating objects: 360, done.\u001b[K\n",
            "remote: Counting objects: 100% (286/286), done.\u001b[K\n",
            "remote: Compressing objects: 100% (158/158), done.\u001b[K\n",
            "remote: Total 360 (delta 138), reused 251 (delta 115), pack-reused 74\u001b[K\n",
            "Receiving objects: 100% (360/360), 4.30 MiB | 8.22 MiB/s, done.\n",
            "Resolving deltas: 100% (157/157), done.\n"
          ]
        }
      ],
      "source": [
        "!git clone https://github.com/Edward-NiAn/cheshire-gapfilling.git"
      ]
    },
    {
      "cell_type": "code",
      "source": [
        "%%python3 --version"
      ],
      "metadata": {
        "id": "1yDaiQ3F5YwB",
        "outputId": "9aed82e0-d81b-411f-b599-566dbac283c0",
        "colab": {
          "base_uri": "https://localhost:8080/"
        }
      },
      "execution_count": null,
      "outputs": [
        {
          "output_type": "stream",
          "name": "stdout",
          "text": [
            "Python 3.10.12\n"
          ]
        }
      ]
    },
    {
      "cell_type": "code",
      "execution_count": 20,
      "metadata": {
        "colab": {
          "base_uri": "https://localhost:8080/"
        },
        "id": "Q6JolQizOTPZ",
        "outputId": "f92b1245-f598-4a79-ec27-b00e08a1b6be"
      },
      "outputs": [
        {
          "output_type": "stream",
          "name": "stdout",
          "text": [
            "[Errno 2] No such file or directory: 'cheshire-gapfilling/'\n",
            "/content/cheshire-gapfilling/cheshire-gapfilling\n",
            "CHESHIRE.py  egc.py         input_parameters.txt  predict.py    read_paras.py     similarity.py\n",
            "config.py    fba.py         LICENSE               \u001b[0m\u001b[01;34m__pycache__\u001b[0m/  requirements.txt  utils.py\n",
            "\u001b[01;34mdata\u001b[0m/        gapfilling.py  main.py               README.md     \u001b[01;34mresults\u001b[0m/          validate.py\n"
          ]
        }
      ],
      "source": [
        "%cd cheshire-gapfilling/\n",
        "%ls"
      ]
    },
    {
      "cell_type": "code",
      "execution_count": null,
      "metadata": {
        "id": "Xi71fphrOrD_"
      },
      "outputs": [],
      "source": [
        "!pip install node2vec\n",
        "!pip install cobra"
      ]
    },
    {
      "cell_type": "code",
      "execution_count": 13,
      "metadata": {
        "colab": {
          "base_uri": "https://localhost:8080/"
        },
        "id": "CDJcaAyfO6yk",
        "outputId": "ee579c0c-b4ad-47c0-baab-500f53b1e7b9"
      },
      "outputs": [
        {
          "output_type": "stream",
          "name": "stdout",
          "text": [
            "Collecting cobra==0.22.1 (from -r requirements.txt (line 1))\n",
            "  Using cached cobra-0.22.1-py2.py3-none-any.whl (2.4 MB)\n",
            "Collecting joblib==1.1.0 (from -r requirements.txt (line 2))\n",
            "  Using cached joblib-1.1.0-py2.py3-none-any.whl (306 kB)\n",
            "Collecting numpy==1.21.2 (from -r requirements.txt (line 3))\n",
            "  Using cached numpy-1.21.2-cp310-cp310-manylinux_2_17_x86_64.manylinux2014_x86_64.whl (15.9 MB)\n",
            "Collecting optlang==1.5.2 (from -r requirements.txt (line 4))\n",
            "  Using cached optlang-1.5.2-py2.py3-none-any.whl (147 kB)\n",
            "Collecting pandas==1.3.2 (from -r requirements.txt (line 5))\n",
            "  Using cached pandas-1.3.2.tar.gz (4.7 MB)\n",
            "  Installing build dependencies ... \u001b[?25l\u001b[?25hcanceled\n",
            "\u001b[31mERROR: Operation cancelled by user\u001b[0m\u001b[31m\n",
            "\u001b[0m"
          ]
        }
      ],
      "source": [
        "!pip install -r requirements.txt\n",
        "# !sed -n '6,$p' requirements.txt | xargs -n 1 pip install"
      ]
    },
    {
      "cell_type": "code",
      "execution_count": 24,
      "metadata": {
        "id": "ksHbZjphQs4h",
        "colab": {
          "base_uri": "https://localhost:8080/"
        },
        "outputId": "61297dd7-6922-42ff-e87f-6ef8dc0e92ca"
      },
      "outputs": [
        {
          "output_type": "stream",
          "name": "stdout",
          "text": [
            "Requirement already satisfied: virtualenv in /usr/local/lib/python3.10/dist-packages (20.25.0)\n",
            "Requirement already satisfied: distlib<1,>=0.3.7 in /usr/local/lib/python3.10/dist-packages (from virtualenv) (0.3.8)\n",
            "Requirement already satisfied: filelock<4,>=3.12.2 in /usr/local/lib/python3.10/dist-packages (from virtualenv) (3.13.1)\n",
            "Requirement already satisfied: platformdirs<5,>=3.9.1 in /usr/local/lib/python3.10/dist-packages (from virtualenv) (4.1.0)\n"
          ]
        }
      ],
      "source": [
        "from google.colab import drive\n",
        "!pip install virtualenv"
      ]
    },
    {
      "cell_type": "code",
      "source": [
        "    remove_indices = np.where(remove_rxn_index)[0]\n",
        "    reactions_to_remove = [model.reactions[idx] for idx in remove_indices]\n",
        "    model.remove_reactions(reactions_to_remove, remove_orphans=True)"
      ],
      "metadata": {
        "colab": {
          "base_uri": "https://localhost:8080/"
        },
        "id": "tr2sV8rpRwSA",
        "outputId": "b802bc4f-9ef6-4357-d205-78c061611f69"
      },
      "execution_count": 25,
      "outputs": [
        {
          "output_type": "stream",
          "name": "stdout",
          "text": [
            "Python 3.10.12\n"
          ]
        }
      ]
    },
    {
      "cell_type": "code",
      "execution_count": 18,
      "metadata": {
        "id": "X_M50b_MPSsy",
        "colab": {
          "base_uri": "https://localhost:8080/"
        },
        "outputId": "52959230-5a85-407c-e2a0-8ba8ccc2162d"
      },
      "outputs": [
        {
          "output_type": "stream",
          "name": "stdout",
          "text": [
            "created virtual environment CPython3.10.12.final.0-64 in 15231ms\n",
            "  creator CPython3Posix(dest=/content/drive/MyDrive/virtual_env_cheshire, clear=False, no_vcs_ignore=False, global=False)\n",
            "  seeder FromAppData(download=False, pip=bundle, setuptools=bundle, wheel=bundle, via=copy, app_data_dir=/root/.local/share/virtualenv)\n",
            "    added seed packages: pip==23.3.1, setuptools==69.0.2, wheel==0.42.0\n",
            "  activators BashActivator,CShellActivator,FishActivator,NushellActivator,PowerShellActivator,PythonActivator\n"
          ]
        }
      ],
      "source": [
        "!virtualenv /content/drive/MyDrive/virtual_env_cheshire"
      ]
    },
    {
      "cell_type": "code",
      "execution_count": 26,
      "metadata": {
        "id": "QdXiTsKbOvT6",
        "colab": {
          "base_uri": "https://localhost:8080/"
        },
        "outputId": "545fd772-cc51-48f8-adde-93dcd3fb25d7"
      },
      "outputs": [
        {
          "output_type": "stream",
          "name": "stdout",
          "text": [
            "Collecting cobra==0.22.1 (from -r requirements_new.txt (line 1))\n",
            "  Using cached cobra-0.22.1-py2.py3-none-any.whl (2.4 MB)\n",
            "Collecting joblib==1.1.0 (from -r requirements_new.txt (line 2))\n",
            "  Using cached joblib-1.1.0-py2.py3-none-any.whl (306 kB)\n",
            "Collecting numpy==1.21.2 (from -r requirements_new.txt (line 3))\n",
            "  Using cached numpy-1.21.2-cp310-cp310-manylinux_2_17_x86_64.manylinux2014_x86_64.whl (15.9 MB)\n",
            "Collecting optlang==1.5.2 (from -r requirements_new.txt (line 4))\n",
            "  Using cached optlang-1.5.2-py2.py3-none-any.whl (147 kB)\n",
            "Requirement already satisfied: pandas in /usr/local/lib/python3.10/dist-packages (from -r requirements_new.txt (line 5)) (1.5.3)\n",
            "Requirement already satisfied: torch in /usr/local/lib/python3.10/dist-packages (from -r requirements_new.txt (line 6)) (2.1.0+cu121)\n",
            "Collecting torch_geometric==1.7.2 (from -r requirements_new.txt (line 7))\n",
            "  Downloading torch_geometric-1.7.2.tar.gz (222 kB)\n",
            "\u001b[2K     \u001b[90m━━━━━━━━━━━━━━━━━━━━━━━━━━━━━━━━━━━━━━━━\u001b[0m \u001b[32m223.0/223.0 kB\u001b[0m \u001b[31m4.4 MB/s\u001b[0m eta \u001b[36m0:00:00\u001b[0m\n",
            "\u001b[?25h  Preparing metadata (setup.py) ... \u001b[?25l\u001b[?25hdone\n",
            "Collecting torch_scatter==2.0.8 (from -r requirements_new.txt (line 8))\n",
            "  Downloading torch_scatter-2.0.8.tar.gz (21 kB)\n",
            "  Preparing metadata (setup.py) ... \u001b[?25l\u001b[?25hdone\n",
            "Collecting torch_sparse==0.6.11 (from -r requirements_new.txt (line 9))\n",
            "  Downloading torch_sparse-0.6.11.tar.gz (40 kB)\n",
            "\u001b[2K     \u001b[90m━━━━━━━━━━━━━━━━━━━━━━━━━━━━━━━━━━━━━━━━\u001b[0m \u001b[32m40.8/40.8 kB\u001b[0m \u001b[31m4.9 MB/s\u001b[0m eta \u001b[36m0:00:00\u001b[0m\n",
            "\u001b[?25h  Preparing metadata (setup.py) ... \u001b[?25l\u001b[?25hdone\n",
            "Collecting tqdm==4.62.1 (from -r requirements_new.txt (line 10))\n",
            "  Downloading tqdm-4.62.1-py2.py3-none-any.whl (76 kB)\n",
            "\u001b[2K     \u001b[90m━━━━━━━━━━━━━━━━━━━━━━━━━━━━━━━━━━━━━━━━\u001b[0m \u001b[32m76.2/76.2 kB\u001b[0m \u001b[31m6.5 MB/s\u001b[0m eta \u001b[36m0:00:00\u001b[0m\n",
            "\u001b[?25hRequirement already satisfied: node2vec in /usr/local/lib/python3.10/dist-packages (from -r requirements_new.txt (line 11)) (0.4.6)\n",
            "Requirement already satisfied: appdirs~=1.4 in /usr/local/lib/python3.10/dist-packages (from cobra==0.22.1->-r requirements_new.txt (line 1)) (1.4.4)\n",
            "Requirement already satisfied: depinfo in /usr/local/lib/python3.10/dist-packages (from cobra==0.22.1->-r requirements_new.txt (line 1)) (2.2.0)\n",
            "Requirement already satisfied: diskcache~=5.0 in /usr/local/lib/python3.10/dist-packages (from cobra==0.22.1->-r requirements_new.txt (line 1)) (5.6.3)\n",
            "Requirement already satisfied: future in /usr/local/lib/python3.10/dist-packages (from cobra==0.22.1->-r requirements_new.txt (line 1)) (0.18.3)\n",
            "Requirement already satisfied: httpx~=0.14 in /usr/local/lib/python3.10/dist-packages (from cobra==0.22.1->-r requirements_new.txt (line 1)) (0.26.0)\n",
            "Requirement already satisfied: importlib-resources in /usr/local/lib/python3.10/dist-packages (from cobra==0.22.1->-r requirements_new.txt (line 1)) (6.1.1)\n",
            "Requirement already satisfied: pydantic~=1.6 in /usr/local/lib/python3.10/dist-packages (from cobra==0.22.1->-r requirements_new.txt (line 1)) (1.10.14)\n",
            "Collecting python-libsbml==5.19.0 (from cobra==0.22.1->-r requirements_new.txt (line 1))\n",
            "  Downloading python-libsbml-5.19.0.tar.gz (36.8 MB)\n",
            "\u001b[2K     \u001b[90m━━━━━━━━━━━━━━━━━━━━━━━━━━━━━━━━━━━━━━━━\u001b[0m \u001b[32m36.8/36.8 MB\u001b[0m \u001b[31m4.9 MB/s\u001b[0m eta \u001b[36m0:00:00\u001b[0m\n",
            "\u001b[?25h  Preparing metadata (setup.py) ... \u001b[?25l\u001b[?25hdone\n",
            "Requirement already satisfied: rich>=8.0 in /usr/local/lib/python3.10/dist-packages (from cobra==0.22.1->-r requirements_new.txt (line 1)) (13.7.0)\n",
            "Requirement already satisfied: ruamel.yaml~=0.16 in /usr/local/lib/python3.10/dist-packages (from cobra==0.22.1->-r requirements_new.txt (line 1)) (0.18.5)\n",
            "Requirement already satisfied: swiglpk in /usr/local/lib/python3.10/dist-packages (from cobra==0.22.1->-r requirements_new.txt (line 1)) (5.0.10)\n",
            "Requirement already satisfied: six>=1.9 in /usr/local/lib/python3.10/dist-packages (from optlang==1.5.2->-r requirements_new.txt (line 4)) (1.16.0)\n",
            "Requirement already satisfied: sympy>=1.0 in /usr/local/lib/python3.10/dist-packages (from optlang==1.5.2->-r requirements_new.txt (line 4)) (1.12)\n",
            "Requirement already satisfied: scipy in /usr/local/lib/python3.10/dist-packages (from torch_geometric==1.7.2->-r requirements_new.txt (line 7)) (1.11.4)\n",
            "Requirement already satisfied: networkx in /usr/local/lib/python3.10/dist-packages (from torch_geometric==1.7.2->-r requirements_new.txt (line 7)) (2.8.8)\n",
            "Requirement already satisfied: python-louvain in /usr/local/lib/python3.10/dist-packages (from torch_geometric==1.7.2->-r requirements_new.txt (line 7)) (0.16)\n",
            "Requirement already satisfied: scikit-learn in /usr/local/lib/python3.10/dist-packages (from torch_geometric==1.7.2->-r requirements_new.txt (line 7)) (1.2.2)\n",
            "Requirement already satisfied: requests in /usr/local/lib/python3.10/dist-packages (from torch_geometric==1.7.2->-r requirements_new.txt (line 7)) (2.31.0)\n",
            "Collecting rdflib (from torch_geometric==1.7.2->-r requirements_new.txt (line 7))\n",
            "  Downloading rdflib-7.0.0-py3-none-any.whl (531 kB)\n",
            "\u001b[2K     \u001b[90m━━━━━━━━━━━━━━━━━━━━━━━━━━━━━━━━━━━━━━━━\u001b[0m \u001b[32m531.9/531.9 kB\u001b[0m \u001b[31m34.0 MB/s\u001b[0m eta \u001b[36m0:00:00\u001b[0m\n",
            "\u001b[?25hRequirement already satisfied: googledrivedownloader in /usr/local/lib/python3.10/dist-packages (from torch_geometric==1.7.2->-r requirements_new.txt (line 7)) (0.4)\n",
            "Requirement already satisfied: jinja2 in /usr/local/lib/python3.10/dist-packages (from torch_geometric==1.7.2->-r requirements_new.txt (line 7)) (3.1.3)\n",
            "Requirement already satisfied: pyparsing in /usr/local/lib/python3.10/dist-packages (from torch_geometric==1.7.2->-r requirements_new.txt (line 7)) (3.1.1)\n",
            "Requirement already satisfied: python-dateutil>=2.8.1 in /usr/local/lib/python3.10/dist-packages (from pandas->-r requirements_new.txt (line 5)) (2.8.2)\n",
            "Requirement already satisfied: pytz>=2020.1 in /usr/local/lib/python3.10/dist-packages (from pandas->-r requirements_new.txt (line 5)) (2023.4)\n",
            "Requirement already satisfied: filelock in /usr/local/lib/python3.10/dist-packages (from torch->-r requirements_new.txt (line 6)) (3.13.1)\n",
            "Requirement already satisfied: typing-extensions in /usr/local/lib/python3.10/dist-packages (from torch->-r requirements_new.txt (line 6)) (4.5.0)\n",
            "Requirement already satisfied: fsspec in /usr/local/lib/python3.10/dist-packages (from torch->-r requirements_new.txt (line 6)) (2023.6.0)\n",
            "Requirement already satisfied: triton==2.1.0 in /usr/local/lib/python3.10/dist-packages (from torch->-r requirements_new.txt (line 6)) (2.1.0)\n",
            "Requirement already satisfied: gensim<5.0.0,>=4.1.2 in /usr/local/lib/python3.10/dist-packages (from node2vec->-r requirements_new.txt (line 11)) (4.3.2)\n",
            "Requirement already satisfied: smart-open>=1.8.1 in /usr/local/lib/python3.10/dist-packages (from gensim<5.0.0,>=4.1.2->node2vec->-r requirements_new.txt (line 11)) (6.4.0)\n",
            "Requirement already satisfied: anyio in /usr/local/lib/python3.10/dist-packages (from httpx~=0.14->cobra==0.22.1->-r requirements_new.txt (line 1)) (3.7.1)\n",
            "Requirement already satisfied: certifi in /usr/local/lib/python3.10/dist-packages (from httpx~=0.14->cobra==0.22.1->-r requirements_new.txt (line 1)) (2023.11.17)\n",
            "Requirement already satisfied: httpcore==1.* in /usr/local/lib/python3.10/dist-packages (from httpx~=0.14->cobra==0.22.1->-r requirements_new.txt (line 1)) (1.0.2)\n",
            "Requirement already satisfied: idna in /usr/local/lib/python3.10/dist-packages (from httpx~=0.14->cobra==0.22.1->-r requirements_new.txt (line 1)) (3.6)\n",
            "Requirement already satisfied: sniffio in /usr/local/lib/python3.10/dist-packages (from httpx~=0.14->cobra==0.22.1->-r requirements_new.txt (line 1)) (1.3.0)\n",
            "Requirement already satisfied: h11<0.15,>=0.13 in /usr/local/lib/python3.10/dist-packages (from httpcore==1.*->httpx~=0.14->cobra==0.22.1->-r requirements_new.txt (line 1)) (0.14.0)\n",
            "Requirement already satisfied: markdown-it-py>=2.2.0 in /usr/local/lib/python3.10/dist-packages (from rich>=8.0->cobra==0.22.1->-r requirements_new.txt (line 1)) (3.0.0)\n",
            "Requirement already satisfied: pygments<3.0.0,>=2.13.0 in /usr/local/lib/python3.10/dist-packages (from rich>=8.0->cobra==0.22.1->-r requirements_new.txt (line 1)) (2.16.1)\n",
            "Requirement already satisfied: ruamel.yaml.clib>=0.2.7 in /usr/local/lib/python3.10/dist-packages (from ruamel.yaml~=0.16->cobra==0.22.1->-r requirements_new.txt (line 1)) (0.2.8)\n",
            "INFO: pip is looking at multiple versions of scipy to determine which version is compatible with other requirements. This could take a while.\n",
            "Collecting scipy (from torch_geometric==1.7.2->-r requirements_new.txt (line 7))\n",
            "  Downloading scipy-1.12.0-cp310-cp310-manylinux_2_17_x86_64.manylinux2014_x86_64.whl (38.4 MB)\n",
            "\u001b[2K     \u001b[90m━━━━━━━━━━━━━━━━━━━━━━━━━━━━━━━━━━━━━━━━\u001b[0m \u001b[32m38.4/38.4 MB\u001b[0m \u001b[31m11.9 MB/s\u001b[0m eta \u001b[36m0:00:00\u001b[0m\n",
            "\u001b[?25h  Downloading scipy-1.11.3-cp310-cp310-manylinux_2_17_x86_64.manylinux2014_x86_64.whl (36.4 MB)\n",
            "\u001b[2K     \u001b[90m━━━━━━━━━━━━━━━━━━━━━━━━━━━━━━━━━━━━━━━━\u001b[0m \u001b[32m36.4/36.4 MB\u001b[0m \u001b[31m11.3 MB/s\u001b[0m eta \u001b[36m0:00:00\u001b[0m\n",
            "\u001b[?25h  Downloading scipy-1.11.2-cp310-cp310-manylinux_2_17_x86_64.manylinux2014_x86_64.whl (36.3 MB)\n",
            "\u001b[2K     \u001b[90m━━━━━━━━━━━━━━━━━━━━━━━━━━━━━━━━━━━━━━━━\u001b[0m \u001b[32m36.3/36.3 MB\u001b[0m \u001b[31m27.0 MB/s\u001b[0m eta \u001b[36m0:00:00\u001b[0m\n",
            "\u001b[?25h  Downloading scipy-1.11.1-cp310-cp310-manylinux_2_17_x86_64.manylinux2014_x86_64.whl (36.3 MB)\n",
            "\u001b[2K     \u001b[90m━━━━━━━━━━━━━━━━━━━━━━━━━━━━━━━━━━━━━━━━\u001b[0m \u001b[32m36.3/36.3 MB\u001b[0m \u001b[31m12.2 MB/s\u001b[0m eta \u001b[36m0:00:00\u001b[0m\n",
            "\u001b[?25h  Downloading scipy-1.10.1-cp310-cp310-manylinux_2_17_x86_64.manylinux2014_x86_64.whl (34.4 MB)\n",
            "\u001b[2K     \u001b[90m━━━━━━━━━━━━━━━━━━━━━━━━━━━━━━━━━━━━━━━━\u001b[0m \u001b[32m34.4/34.4 MB\u001b[0m \u001b[31m12.8 MB/s\u001b[0m eta \u001b[36m0:00:00\u001b[0m\n",
            "\u001b[?25hRequirement already satisfied: mpmath>=0.19 in /usr/local/lib/python3.10/dist-packages (from sympy>=1.0->optlang==1.5.2->-r requirements_new.txt (line 4)) (1.3.0)\n",
            "Requirement already satisfied: MarkupSafe>=2.0 in /usr/local/lib/python3.10/dist-packages (from jinja2->torch_geometric==1.7.2->-r requirements_new.txt (line 7)) (2.1.4)\n",
            "Collecting isodate<0.7.0,>=0.6.0 (from rdflib->torch_geometric==1.7.2->-r requirements_new.txt (line 7))\n",
            "  Downloading isodate-0.6.1-py2.py3-none-any.whl (41 kB)\n",
            "\u001b[2K     \u001b[90m━━━━━━━━━━━━━━━━━━━━━━━━━━━━━━━━━━━━━━━━\u001b[0m \u001b[32m41.7/41.7 kB\u001b[0m \u001b[31m3.9 MB/s\u001b[0m eta \u001b[36m0:00:00\u001b[0m\n",
            "\u001b[?25hRequirement already satisfied: charset-normalizer<4,>=2 in /usr/local/lib/python3.10/dist-packages (from requests->torch_geometric==1.7.2->-r requirements_new.txt (line 7)) (3.3.2)\n",
            "Requirement already satisfied: urllib3<3,>=1.21.1 in /usr/local/lib/python3.10/dist-packages (from requests->torch_geometric==1.7.2->-r requirements_new.txt (line 7)) (2.0.7)\n",
            "INFO: pip is looking at multiple versions of scikit-learn to determine which version is compatible with other requirements. This could take a while.\n",
            "Collecting scikit-learn (from torch_geometric==1.7.2->-r requirements_new.txt (line 7))\n",
            "  Downloading scikit_learn-1.4.0-1-cp310-cp310-manylinux_2_17_x86_64.manylinux2014_x86_64.whl (12.1 MB)\n",
            "\u001b[2K     \u001b[90m━━━━━━━━━━━━━━━━━━━━━━━━━━━━━━━━━━━━━━━━\u001b[0m \u001b[32m12.1/12.1 MB\u001b[0m \u001b[31m74.6 MB/s\u001b[0m eta \u001b[36m0:00:00\u001b[0m\n",
            "\u001b[?25h  Downloading scikit_learn-1.3.2-cp310-cp310-manylinux_2_17_x86_64.manylinux2014_x86_64.whl (10.8 MB)\n",
            "\u001b[2K     \u001b[90m━━━━━━━━━━━━━━━━━━━━━━━━━━━━━━━━━━━━━━━━\u001b[0m \u001b[32m10.8/10.8 MB\u001b[0m \u001b[31m67.0 MB/s\u001b[0m eta \u001b[36m0:00:00\u001b[0m\n",
            "\u001b[?25h  Downloading scikit_learn-1.3.1-cp310-cp310-manylinux_2_17_x86_64.manylinux2014_x86_64.whl (10.8 MB)\n",
            "\u001b[2K     \u001b[90m━━━━━━━━━━━━━━━━━━━━━━━━━━━━━━━━━━━━━━━━\u001b[0m \u001b[32m10.8/10.8 MB\u001b[0m \u001b[31m81.3 MB/s\u001b[0m eta \u001b[36m0:00:00\u001b[0m\n",
            "\u001b[?25h  Downloading scikit_learn-1.3.0-cp310-cp310-manylinux_2_17_x86_64.manylinux2014_x86_64.whl (10.8 MB)\n",
            "\u001b[2K     \u001b[90m━━━━━━━━━━━━━━━━━━━━━━━━━━━━━━━━━━━━━━━━\u001b[0m \u001b[32m10.8/10.8 MB\u001b[0m \u001b[31m93.7 MB/s\u001b[0m eta \u001b[36m0:00:00\u001b[0m\n",
            "\u001b[?25h  Downloading scikit_learn-1.2.1-cp310-cp310-manylinux_2_17_x86_64.manylinux2014_x86_64.whl (9.6 MB)\n",
            "\u001b[2K     \u001b[90m━━━━━━━━━━━━━━━━━━━━━━━━━━━━━━━━━━━━━━━━\u001b[0m \u001b[32m9.6/9.6 MB\u001b[0m \u001b[31m93.1 MB/s\u001b[0m eta \u001b[36m0:00:00\u001b[0m\n",
            "\u001b[?25h  Downloading scikit_learn-1.2.0-cp310-cp310-manylinux_2_17_x86_64.manylinux2014_x86_64.whl (9.5 MB)\n",
            "\u001b[2K     \u001b[90m━━━━━━━━━━━━━━━━━━━━━━━━━━━━━━━━━━━━━━━━\u001b[0m \u001b[32m9.5/9.5 MB\u001b[0m \u001b[31m45.7 MB/s\u001b[0m eta \u001b[36m0:00:00\u001b[0m\n",
            "\u001b[?25h  Downloading scikit_learn-1.1.3-cp310-cp310-manylinux_2_17_x86_64.manylinux2014_x86_64.whl (30.5 MB)\n",
            "\u001b[2K     \u001b[90m━━━━━━━━━━━━━━━━━━━━━━━━━━━━━━━━━━━━━━━━\u001b[0m \u001b[32m30.5/30.5 MB\u001b[0m \u001b[31m10.5 MB/s\u001b[0m eta \u001b[36m0:00:00\u001b[0m\n",
            "\u001b[?25hRequirement already satisfied: threadpoolctl>=2.0.0 in /usr/local/lib/python3.10/dist-packages (from scikit-learn->torch_geometric==1.7.2->-r requirements_new.txt (line 7)) (3.2.0)\n",
            "Requirement already satisfied: mdurl~=0.1 in /usr/local/lib/python3.10/dist-packages (from markdown-it-py>=2.2.0->rich>=8.0->cobra==0.22.1->-r requirements_new.txt (line 1)) (0.1.2)\n",
            "Requirement already satisfied: exceptiongroup in /usr/local/lib/python3.10/dist-packages (from anyio->httpx~=0.14->cobra==0.22.1->-r requirements_new.txt (line 1)) (1.2.0)\n",
            "Building wheels for collected packages: torch_geometric, torch_scatter, torch_sparse, python-libsbml\n",
            "  Building wheel for torch_geometric (setup.py) ... \u001b[?25l\u001b[?25hdone\n",
            "  Created wheel for torch_geometric: filename=torch_geometric-1.7.2-py3-none-any.whl size=388121 sha256=59df276b154852a2423d1d8dbc05fff04ef2b9cdc1721ee225d016af16fe0738\n",
            "  Stored in directory: /root/.cache/pip/wheels/c0/55/79/3c3ea6134ca014b6bedf7c47797876dab8fb74774bee58c76a\n",
            "  Building wheel for torch_scatter (setup.py) ... \u001b[?25l\u001b[?25hdone\n",
            "  Created wheel for torch_scatter: filename=torch_scatter-2.0.8-cp310-cp310-linux_x86_64.whl size=420247 sha256=4198ab0774b8cb0f6f49aa799f64575f2fb4589949c4d0ada9a9b2f72a042d0c\n",
            "  Stored in directory: /root/.cache/pip/wheels/17/69/c5/ed8cff61e1954ba18dfbd4ec72372c61672d81d7890e62cc97\n",
            "  Building wheel for torch_sparse (setup.py) ... \u001b[?25l\u001b[?25hdone\n",
            "  Created wheel for torch_sparse: filename=torch_sparse-0.6.11-cp310-cp310-linux_x86_64.whl size=881743 sha256=c3ce22e829cab2203e00d1537377e036d2f32a294930106110ef8c71dde63e3d\n",
            "  Stored in directory: /root/.cache/pip/wheels/1a/f5/69/6548fa1727412cfe402b2471a56890189b5a60ffc77f2c678a\n",
            "  \u001b[1;31merror\u001b[0m: \u001b[1msubprocess-exited-with-error\u001b[0m\n",
            "  \n",
            "  \u001b[31m×\u001b[0m \u001b[32mpython setup.py bdist_wheel\u001b[0m did not run successfully.\n",
            "  \u001b[31m│\u001b[0m exit code: \u001b[1;36m1\u001b[0m\n",
            "  \u001b[31m╰─>\u001b[0m See above for output.\n",
            "  \n",
            "  \u001b[1;35mnote\u001b[0m: This error originates from a subprocess, and is likely not a problem with pip.\n",
            "  Building wheel for python-libsbml (setup.py) ... \u001b[?25lerror\n",
            "\u001b[31m  ERROR: Failed building wheel for python-libsbml\u001b[0m\u001b[31m\n",
            "\u001b[0m\u001b[?25h  Running setup.py clean for python-libsbml\n",
            "Successfully built torch_geometric torch_scatter torch_sparse\n",
            "Failed to build python-libsbml\n",
            "\u001b[31mERROR: Could not build wheels for python-libsbml, which is required to install pyproject.toml-based projects\u001b[0m\u001b[31m\n",
            "\u001b[0m"
          ]
        }
      ],
      "source": [
        "!source /content/drive/MyDrive/virtual_env_cheshire/bin/activate\n",
        "!pip install -r requirements_new.txt"
      ]
    },
    {
      "cell_type": "code",
      "source": [
        "!pip install tqdm==4.62.1\n",
        "!pip install node2vec\n",
        "!pip install cobra"
      ],
      "metadata": {
        "colab": {
          "base_uri": "https://localhost:8080/",
          "height": 949
        },
        "id": "GJir_lZVZIux",
        "outputId": "27b1b217-4c6b-4ca5-de83-f841315ee190"
      },
      "execution_count": 27,
      "outputs": [
        {
          "output_type": "stream",
          "name": "stdout",
          "text": [
            "Collecting tqdm==4.62.1\n",
            "  Using cached tqdm-4.62.1-py2.py3-none-any.whl (76 kB)\n",
            "Installing collected packages: tqdm\n",
            "  Attempting uninstall: tqdm\n",
            "    Found existing installation: tqdm 4.66.1\n",
            "    Uninstalling tqdm-4.66.1:\n",
            "      Successfully uninstalled tqdm-4.66.1\n",
            "Successfully installed tqdm-4.62.1\n"
          ]
        },
        {
          "output_type": "display_data",
          "data": {
            "application/vnd.colab-display-data+json": {
              "pip_warning": {
                "packages": [
                  "tqdm"
                ]
              }
            }
          },
          "metadata": {}
        },
        {
          "output_type": "stream",
          "name": "stdout",
          "text": [
            "Requirement already satisfied: node2vec in /usr/local/lib/python3.10/dist-packages (0.4.6)\n",
            "Requirement already satisfied: gensim<5.0.0,>=4.1.2 in /usr/local/lib/python3.10/dist-packages (from node2vec) (4.3.2)\n",
            "Requirement already satisfied: joblib<2.0.0,>=1.1.0 in /usr/local/lib/python3.10/dist-packages (from node2vec) (1.3.2)\n",
            "Requirement already satisfied: networkx<3.0,>=2.5 in /usr/local/lib/python3.10/dist-packages (from node2vec) (2.8.8)\n",
            "Requirement already satisfied: numpy<2.0.0,>=1.19.5 in /usr/local/lib/python3.10/dist-packages (from node2vec) (1.23.5)\n",
            "Requirement already satisfied: tqdm<5.0.0,>=4.55.1 in /usr/local/lib/python3.10/dist-packages (from node2vec) (4.62.1)\n",
            "Requirement already satisfied: scipy>=1.7.0 in /usr/local/lib/python3.10/dist-packages (from gensim<5.0.0,>=4.1.2->node2vec) (1.11.4)\n",
            "Requirement already satisfied: smart-open>=1.8.1 in /usr/local/lib/python3.10/dist-packages (from gensim<5.0.0,>=4.1.2->node2vec) (6.4.0)\n",
            "Requirement already satisfied: cobra in /usr/local/lib/python3.10/dist-packages (0.29.0)\n",
            "Requirement already satisfied: appdirs~=1.4 in /usr/local/lib/python3.10/dist-packages (from cobra) (1.4.4)\n",
            "Requirement already satisfied: depinfo~=2.2 in /usr/local/lib/python3.10/dist-packages (from cobra) (2.2.0)\n",
            "Requirement already satisfied: diskcache~=5.0 in /usr/local/lib/python3.10/dist-packages (from cobra) (5.6.3)\n",
            "Requirement already satisfied: future in /usr/local/lib/python3.10/dist-packages (from cobra) (0.18.3)\n",
            "Requirement already satisfied: httpx~=0.24 in /usr/local/lib/python3.10/dist-packages (from cobra) (0.26.0)\n",
            "Requirement already satisfied: importlib-resources in /usr/local/lib/python3.10/dist-packages (from cobra) (6.1.1)\n",
            "Requirement already satisfied: numpy>=1.13 in /usr/local/lib/python3.10/dist-packages (from cobra) (1.23.5)\n",
            "Requirement already satisfied: optlang~=1.8 in /usr/local/lib/python3.10/dist-packages (from cobra) (1.8.1)\n",
            "Requirement already satisfied: pandas<3.0,>=1.0 in /usr/local/lib/python3.10/dist-packages (from cobra) (1.5.3)\n",
            "Requirement already satisfied: pydantic>=1.6 in /usr/local/lib/python3.10/dist-packages (from cobra) (1.10.14)\n",
            "Requirement already satisfied: python-libsbml~=5.19 in /usr/local/lib/python3.10/dist-packages (from cobra) (5.20.2)\n",
            "Requirement already satisfied: rich>=8.0 in /usr/local/lib/python3.10/dist-packages (from cobra) (13.7.0)\n",
            "Requirement already satisfied: ruamel.yaml~=0.16 in /usr/local/lib/python3.10/dist-packages (from cobra) (0.18.5)\n",
            "Requirement already satisfied: swiglpk in /usr/local/lib/python3.10/dist-packages (from cobra) (5.0.10)\n",
            "Requirement already satisfied: anyio in /usr/local/lib/python3.10/dist-packages (from httpx~=0.24->cobra) (3.7.1)\n",
            "Requirement already satisfied: certifi in /usr/local/lib/python3.10/dist-packages (from httpx~=0.24->cobra) (2023.11.17)\n",
            "Requirement already satisfied: httpcore==1.* in /usr/local/lib/python3.10/dist-packages (from httpx~=0.24->cobra) (1.0.2)\n",
            "Requirement already satisfied: idna in /usr/local/lib/python3.10/dist-packages (from httpx~=0.24->cobra) (3.6)\n",
            "Requirement already satisfied: sniffio in /usr/local/lib/python3.10/dist-packages (from httpx~=0.24->cobra) (1.3.0)\n",
            "Requirement already satisfied: h11<0.15,>=0.13 in /usr/local/lib/python3.10/dist-packages (from httpcore==1.*->httpx~=0.24->cobra) (0.14.0)\n",
            "Requirement already satisfied: six>=1.9 in /usr/local/lib/python3.10/dist-packages (from optlang~=1.8->cobra) (1.16.0)\n",
            "Requirement already satisfied: sympy>=1.12.0 in /usr/local/lib/python3.10/dist-packages (from optlang~=1.8->cobra) (1.12)\n",
            "Requirement already satisfied: python-dateutil>=2.8.1 in /usr/local/lib/python3.10/dist-packages (from pandas<3.0,>=1.0->cobra) (2.8.2)\n",
            "Requirement already satisfied: pytz>=2020.1 in /usr/local/lib/python3.10/dist-packages (from pandas<3.0,>=1.0->cobra) (2023.4)\n",
            "Requirement already satisfied: typing-extensions>=4.2.0 in /usr/local/lib/python3.10/dist-packages (from pydantic>=1.6->cobra) (4.5.0)\n",
            "Requirement already satisfied: markdown-it-py>=2.2.0 in /usr/local/lib/python3.10/dist-packages (from rich>=8.0->cobra) (3.0.0)\n",
            "Requirement already satisfied: pygments<3.0.0,>=2.13.0 in /usr/local/lib/python3.10/dist-packages (from rich>=8.0->cobra) (2.16.1)\n",
            "Requirement already satisfied: ruamel.yaml.clib>=0.2.7 in /usr/local/lib/python3.10/dist-packages (from ruamel.yaml~=0.16->cobra) (0.2.8)\n",
            "Requirement already satisfied: mdurl~=0.1 in /usr/local/lib/python3.10/dist-packages (from markdown-it-py>=2.2.0->rich>=8.0->cobra) (0.1.2)\n",
            "Requirement already satisfied: mpmath>=0.19 in /usr/local/lib/python3.10/dist-packages (from sympy>=1.12.0->optlang~=1.8->cobra) (1.3.0)\n",
            "Requirement already satisfied: exceptiongroup in /usr/local/lib/python3.10/dist-packages (from anyio->httpx~=0.24->cobra) (1.2.0)\n"
          ]
        }
      ]
    },
    {
      "cell_type": "code",
      "source": [
        "!sed -n '6,$p' requirements.txt | xargs -n 1 pip install"
      ],
      "metadata": {
        "colab": {
          "base_uri": "https://localhost:8080/"
        },
        "id": "ZhRef1cpZnFV",
        "outputId": "f881d786-c0ec-41ea-9b2c-f882997d9400"
      },
      "execution_count": 29,
      "outputs": [
        {
          "output_type": "stream",
          "name": "stdout",
          "text": [
            "\u001b[31mERROR: Could not find a version that satisfies the requirement torch==1.9.0 (from versions: 1.11.0, 1.12.0, 1.12.1, 1.13.0, 1.13.1, 2.0.0, 2.0.1, 2.1.0, 2.1.1, 2.1.2, 2.2.0)\u001b[0m\u001b[31m\n",
            "\u001b[0m\u001b[31mERROR: No matching distribution found for torch==1.9.0\u001b[0m\u001b[31m\n",
            "\u001b[0mCollecting torch_geometric==1.7.2\n",
            "  Using cached torch_geometric-1.7.2-py3-none-any.whl\n",
            "Requirement already satisfied: numpy in /usr/local/lib/python3.10/dist-packages (from torch_geometric==1.7.2) (1.23.5)\n",
            "Requirement already satisfied: tqdm in /usr/local/lib/python3.10/dist-packages (from torch_geometric==1.7.2) (4.62.1)\n",
            "Requirement already satisfied: scipy in /usr/local/lib/python3.10/dist-packages (from torch_geometric==1.7.2) (1.11.4)\n",
            "Requirement already satisfied: networkx in /usr/local/lib/python3.10/dist-packages (from torch_geometric==1.7.2) (2.8.8)\n",
            "Requirement already satisfied: python-louvain in /usr/local/lib/python3.10/dist-packages (from torch_geometric==1.7.2) (0.16)\n",
            "Requirement already satisfied: scikit-learn in /usr/local/lib/python3.10/dist-packages (from torch_geometric==1.7.2) (1.2.2)\n",
            "Requirement already satisfied: requests in /usr/local/lib/python3.10/dist-packages (from torch_geometric==1.7.2) (2.31.0)\n",
            "Requirement already satisfied: pandas in /usr/local/lib/python3.10/dist-packages (from torch_geometric==1.7.2) (1.5.3)\n",
            "Collecting rdflib (from torch_geometric==1.7.2)\n",
            "  Using cached rdflib-7.0.0-py3-none-any.whl (531 kB)\n",
            "Requirement already satisfied: googledrivedownloader in /usr/local/lib/python3.10/dist-packages (from torch_geometric==1.7.2) (0.4)\n",
            "Requirement already satisfied: jinja2 in /usr/local/lib/python3.10/dist-packages (from torch_geometric==1.7.2) (3.1.3)\n",
            "Requirement already satisfied: pyparsing in /usr/local/lib/python3.10/dist-packages (from torch_geometric==1.7.2) (3.1.1)\n",
            "Requirement already satisfied: MarkupSafe>=2.0 in /usr/local/lib/python3.10/dist-packages (from jinja2->torch_geometric==1.7.2) (2.1.4)\n",
            "Requirement already satisfied: python-dateutil>=2.8.1 in /usr/local/lib/python3.10/dist-packages (from pandas->torch_geometric==1.7.2) (2.8.2)\n",
            "Requirement already satisfied: pytz>=2020.1 in /usr/local/lib/python3.10/dist-packages (from pandas->torch_geometric==1.7.2) (2023.4)\n",
            "Collecting isodate<0.7.0,>=0.6.0 (from rdflib->torch_geometric==1.7.2)\n",
            "  Using cached isodate-0.6.1-py2.py3-none-any.whl (41 kB)\n",
            "Requirement already satisfied: charset-normalizer<4,>=2 in /usr/local/lib/python3.10/dist-packages (from requests->torch_geometric==1.7.2) (3.3.2)\n",
            "Requirement already satisfied: idna<4,>=2.5 in /usr/local/lib/python3.10/dist-packages (from requests->torch_geometric==1.7.2) (3.6)\n",
            "Requirement already satisfied: urllib3<3,>=1.21.1 in /usr/local/lib/python3.10/dist-packages (from requests->torch_geometric==1.7.2) (2.0.7)\n",
            "Requirement already satisfied: certifi>=2017.4.17 in /usr/local/lib/python3.10/dist-packages (from requests->torch_geometric==1.7.2) (2023.11.17)\n",
            "Requirement already satisfied: joblib>=1.1.1 in /usr/local/lib/python3.10/dist-packages (from scikit-learn->torch_geometric==1.7.2) (1.3.2)\n",
            "Requirement already satisfied: threadpoolctl>=2.0.0 in /usr/local/lib/python3.10/dist-packages (from scikit-learn->torch_geometric==1.7.2) (3.2.0)\n",
            "Requirement already satisfied: six in /usr/local/lib/python3.10/dist-packages (from isodate<0.7.0,>=0.6.0->rdflib->torch_geometric==1.7.2) (1.16.0)\n",
            "Installing collected packages: isodate, rdflib, torch_geometric\n",
            "Successfully installed isodate-0.6.1 rdflib-7.0.0 torch_geometric-1.7.2\n",
            "Collecting torch_scatter==2.0.8\n",
            "  Using cached torch_scatter-2.0.8-cp310-cp310-linux_x86_64.whl\n",
            "Installing collected packages: torch_scatter\n",
            "Successfully installed torch_scatter-2.0.8\n",
            "Collecting torch_sparse==0.6.11\n",
            "  Using cached torch_sparse-0.6.11-cp310-cp310-linux_x86_64.whl\n",
            "Requirement already satisfied: scipy in /usr/local/lib/python3.10/dist-packages (from torch_sparse==0.6.11) (1.11.4)\n",
            "Requirement already satisfied: numpy<1.28.0,>=1.21.6 in /usr/local/lib/python3.10/dist-packages (from scipy->torch_sparse==0.6.11) (1.23.5)\n",
            "Installing collected packages: torch_sparse\n",
            "Successfully installed torch_sparse-0.6.11\n",
            "Requirement already satisfied: tqdm==4.62.1 in /usr/local/lib/python3.10/dist-packages (4.62.1)\n"
          ]
        }
      ]
    },
    {
      "cell_type": "code",
      "execution_count": null,
      "metadata": {
        "colab": {
          "base_uri": "https://localhost:8080/"
        },
        "id": "mQTfUWr2OWri",
        "outputId": "059f9d38-96a4-49ef-9fe2-24ecb4e24bf0"
      },
      "outputs": [
        {
          "output_type": "stream",
          "name": "stdout",
          "text": [
            "mkdir: cannot create directory ‘results’: File exists\n",
            "mkdir: cannot create directory ‘results/predicted_scores’: File exists\n",
            "mkdir: cannot create directory ‘results/similarity_scores’: File exists\n",
            "mkdir: cannot create directory ‘results/gaps’: File exists\n",
            "100% 30/30 [07:05<00:00, 14.19s/it]\n",
            "100% 30/30 [05:54<00:00, 11.81s/it]\n",
            "100% 30/30 [07:08<00:00, 14.29s/it]\n",
            "100% 30/30 [05:59<00:00, 11.99s/it]\n",
            "100% 30/30 [07:08<00:00, 14.29s/it]\n",
            "100% 30/30 [06:05<00:00, 12.19s/it]\n",
            "100% 30/30 [06:57<00:00, 13.91s/it]\n",
            "100% 30/30 [06:01<00:00, 12.07s/it]\n",
            "100% 30/30 [06:55<00:00, 13.85s/it]\n",
            " 90% 27/30 [05:22<00:35, 11.96s/it]"
          ]
        }
      ],
      "source": [
        "import cobra\n",
        "!python main.py"
      ]
    },
    {
      "cell_type": "code",
      "source": [
        "refModel = cobra.io.read_sbml_model('Refm.xml')"
      ],
      "metadata": {
        "id": "EWBX-09kfJId"
      },
      "execution_count": null,
      "outputs": []
    },
    {
      "cell_type": "code",
      "source": [
        "print(refModel.summary())"
      ],
      "metadata": {
        "colab": {
          "base_uri": "https://localhost:8080/"
        },
        "id": "IPhCM8UefOcD",
        "outputId": "1c9d1a4d-ed71-4c30-86c1-6f8cc814e141"
      },
      "execution_count": null,
      "outputs": [
        {
          "output_type": "stream",
          "name": "stdout",
          "text": [
            "Objective\n",
            "=========\n",
            "1.0 MAR13082 = 187.35362997658078\n",
            "\n",
            "Uptake\n",
            "------\n",
            "  Metabolite Reaction      Flux  C-Number C-Flux\n",
            "MAM01291e[e] MAR00566    0.2333        22  0.01%\n",
            "MAM01771e[e] MAR00567   0.01104        20  0.00%\n",
            "MAM01371e[e] MAR00569      1000        10 10.20%\n",
            "MAM01741e[e] MAR00571    0.1629        22  0.00%\n",
            "MAM01689e[e] MAR00573    0.5728        22  0.01%\n",
            "MAM00094e[e] MAR00575    0.1049        22  0.00%\n",
            "MAM01696e[e] MAR00576     3.583        20  0.07%\n",
            "MAM02648e[e] MAR00577    0.6377        20  0.01%\n",
            "MAM01432e[e] MAR00618   0.01104        26  0.00%\n",
            "MAM02456e[e] MAR00620   0.01104        17  0.00%\n",
            "MAM02385e[e] MAR00621   0.01104        24  0.00%\n",
            "MAM00656e[e] MAR00628     23.38         9  0.21%\n",
            "MAM02564e[e] MAR00637   0.01104        24  0.00%\n",
            "MAM02646e[e] MAR00650     25.75        18  0.47%\n",
            "MAM02685e[e] MAR00656     7.903         7  0.06%\n",
            "MAM02715e[e] MAR00658     1.247         8  0.01%\n",
            "MAM02808e[e] MAR00661    0.7874         8  0.01%\n",
            "MAM02690e[e] MAR00662   0.01104        15  0.00%\n",
            "MAM00135e[e] MAR00698   0.02208        24  0.00%\n",
            "MAM00111e[e] MAR00699   0.01104        24  0.00%\n",
            "MAM00132e[e] MAR00700   0.01104        24  0.00%\n",
            "MAM02494e[e] MAR00702    0.3672        14  0.01%\n",
            "MAM01802e[e] MAR01939  0.007756        27  0.00%\n",
            "MAM01605e[e] MAR01965     28.68        36  1.05%\n",
            "MAM02000e[e] MAR04148     942.8        26 24.99%\n",
            "MAM03494e[e] MAR04886   0.01104        10  0.00%\n",
            "MAM03540e[e] MAR04923   0.01104        19  0.00%\n",
            "MAM01583e[e] MAR04927   0.01104        22  0.00%\n",
            "MAM01373e[e] MAR04929   0.01104        22  0.00%\n",
            "MAM02964e[e] MAR08959     507.8        26 13.46%\n",
            "MAM03102e[e] MAR08967  0.007756        59  0.00%\n",
            "MAM02559e[e] MAR09029    0.3895         5  0.00%\n",
            "MAM02389e[e] MAR09036    0.3009        18  0.01%\n",
            "MAM02125e[e] MAR09038     23.02         6  0.14%\n",
            "MAM02184e[e] MAR09039     45.12         6  0.28%\n",
            "MAM02360e[e] MAR09040     92.02         6  0.56%\n",
            "MAM02426e[e] MAR09041     72.16         6  0.44%\n",
            "MAM02471e[e] MAR09042     22.54         5  0.11%\n",
            "MAM02724e[e] MAR09043     38.17         9  0.35%\n",
            "MAM02993e[e] MAR09044     57.01         4  0.23%\n",
            "MAM03089e[e] MAR09045     9.891        11  0.11%\n",
            "MAM03135e[e] MAR09046      67.5         5  0.34%\n",
            "MAM02630e[e] MAR09048     392.1         0  0.00%\n",
            "MAM02353e[e] MAR09051 0.0003146     94027  0.03%\n",
            "MAM01307e[e] MAR09061     81.11         3  0.25%\n",
            "MAM01369e[e] MAR09062     37.61         4  0.15%\n",
            "MAM01975e[e] MAR09063     56.55         5  0.29%\n",
            "MAM03101e[e] MAR09064     28.59         9  0.26%\n",
            "MAM02770e[e] MAR09068     51.64         5  0.26%\n",
            "MAM02896e[e] MAR09069     68.65         3  0.21%\n",
            "MAM01370e[e] MAR09070     63.44         4  0.26%\n",
            "MAM01974e[e] MAR09071     108.8         5  0.55%\n",
            "MAM02039e[e] MAR09079        97         0  0.00%\n",
            "MAM02042e[e] MAR09103     18.35         0  0.00%\n",
            "MAM02049e[e] MAR09107  0.007756        34  0.00%\n",
            "MAM01704e[e] MAR09108     666.7         9  6.12%\n",
            "MAM01401e[e] MAR09109  0.007756        10  0.00%\n",
            "MAM02842e[e] MAR09143  0.007756        17  0.00%\n",
            "MAM02834e[e] MAR09147   0.07359        20  0.00%\n",
            "MAM01330e[e] MAR09152  0.007756        29  0.00%\n",
            "MAM01938e[e] MAR09154  0.007756        28  0.00%\n",
            "MAM02982e[e] MAR09159  0.007756        12  0.00%\n",
            "MAM02394e[e] MAR09167  0.007756         8  0.00%\n",
            "MAM01415e[e] MAR09215    0.0116        27  0.00%\n",
            "MAM01361e[e] MAR09269  0.007756        62  0.00%\n",
            "MAM01397e[e] MAR09271  0.003867        45  0.00%\n",
            "MAM01398e[e] MAR09272   0.05435        39  0.00%\n",
            "MAM01450e[e] MAR09285     4.573        27  0.13%\n",
            "MAM01630e[e] MAR09295     6.789         9  0.06%\n",
            "MAM01669e[e] MAR09300     8.541        10  0.09%\n",
            "MAM02026e[e] MAR09351      1.64        10  0.02%\n",
            "MAM02041e[e] MAR09354      1000         0  0.00%\n",
            "MAM02170e[e] MAR09362      1000        10 10.20%\n",
            "MAM02470e[e] MAR09372     98.74         1  0.10%\n",
            "MAM02583e[e] MAR09378    0.3533         6  0.00%\n",
            "MAM02833e[e] MAR09404   0.01933        20  0.00%\n",
            "MAM02996e[e] MAR09423     894.2        10  9.12%\n",
            "MAM03130e[e] MAR09440     109.1         9  1.00%\n",
            "MAM02814e[e] MAR09691  0.007756         8  0.00%\n",
            "MAM03161e[e] MAR09729      76.1         6  0.47%\n",
            "MAM00674e[e] MAR09842    0.3261         3  0.00%\n",
            "MAM01644e[e] MAR09847     1.019         9  0.01%\n",
            "MAM02940e[e] MAR09924     4.837        25  0.12%\n",
            "MAM02411e[e] MAR09925     6.733        23  0.16%\n",
            "MAM02122e[e] MAR10250     2.138        27  0.06%\n",
            "MAM02388e[e] MAR10254     5.367        25  0.14%\n",
            "MAM02497e[e] MAR10265     51.34         6  0.31%\n",
            "MAM02974e[e] MAR10345   0.01104        21  0.00%\n",
            "MAM00821e[e] MAR10427     315.5         9  2.90%\n",
            "MAM01584e[e] MAR10432   0.01104        20  0.00%\n",
            "MAM00916e[e] MAR10441    0.2265         3  0.00%\n",
            "MAM02978e[e] MAR10496  0.007756         9  0.00%\n",
            "MAM03684e[e] MAR11293      1000         6  6.12%\n",
            "MAM01620e[e] MAR11349     348.9         4  1.42%\n",
            "MAM02579e[e] MAR11420     18.35         0  0.00%\n",
            "MAM01973e[e] MAR11424  0.007756         6  0.00%\n",
            "MAM00350e[e] MAR11895   0.01551        20  0.00%\n",
            "MAM02117e[e] MAR11949   0.01104        23  0.00%\n",
            "MAM01045e[e] MAR11953  0.007756        20  0.00%\n",
            "MAM02927e[e] MAR11959     166.7        18  3.06%\n",
            "MAM01417e[e] MAR11965  0.003867        27  0.00%\n",
            "MAM01841e[e] MAR11974     479.6         6  2.93%\n",
            "MAM02750e[e] MAR12127     2.868        11  0.03%\n",
            "MAM00003e[e] MAR13040   0.01104        17  0.00%\n",
            "MAM00008e[e] MAR13041   0.01104        20  0.00%\n",
            "MAM00010e[e] MAR13042   0.01104        20  0.00%\n",
            "MAM00017e[e] MAR13043   0.01104        20  0.00%\n",
            "MAM00021e[e] MAR13045   0.01104        22  0.00%\n",
            "MAM00117e[e] MAR13047   0.01104        14  0.00%\n",
            "MAM00260e[e] MAR13048   0.01104        22  0.00%\n",
            "MAM00265e[e] MAR13049   0.01104        22  0.00%\n",
            "MAM00315e[e] MAR13050   0.01104        24  0.00%\n",
            "MAM00341e[e] MAR13051   0.01104        22  0.00%\n",
            "MAM01207e[e] MAR13053   0.01104        20  0.00%\n",
            "MAM01238e[e] MAR13055   0.01104        17  0.00%\n",
            "MAM01582e[e] MAR13056   0.01104        22  0.00%\n",
            "MAM02053e[e] MAR13057   0.01104        21  0.00%\n",
            "MAM02457e[e] MAR13058   0.01104        20  0.00%\n",
            "MAM02613e[e] MAR13059   0.01104        19  0.00%\n",
            "MAM02745e[e] MAR13060   0.01104        14  0.00%\n",
            "MAM03045e[e] MAR13061   0.01104        23  0.00%\n",
            "MAM03051e[e] MAR13062   0.01104        13  0.00%\n",
            "MAM03153e[e] MAR13063   0.01104        26  0.00%\n",
            "\n",
            "Secretion\n",
            "---------\n",
            "  Metabolite Reaction       Flux  C-Number C-Flux\n",
            "MAM01155e[e] MAR01871     -666.7         9  6.60%\n",
            "MAM03127e[e] MAR01964     -28.68        40  1.26%\n",
            "MAM02402e[e] MAR04164     -747.6        24 19.74%\n",
            "MAM01965e[e] MAR09034     -143.1         6  0.94%\n",
            "MAM02352e[e] MAR09055 -0.0003146     33247  0.01%\n",
            "MAM01986e[e] MAR09067       -361         2  0.79%\n",
            "MAM02751e[e] MAR09072      -1000         0  0.00%\n",
            "MAM02046e[e] MAR09078      -78.5         1  0.09%\n",
            "MAM02819e[e] MAR09133     -975.9         3  3.22%\n",
            "MAM01249e[e] MAR09242     -684.5         2  1.51%\n",
            "MAM01279e[e] MAR09253     -393.1         5  2.16%\n",
            "MAM01285e[e] MAR09255     -598.4        10  6.58%\n",
            "MAM01396e[e] MAR09273   -0.05822        33  0.00%\n",
            "MAM01619e[e] MAR09290     -348.9         4  1.54%\n",
            "MAM02348e[e] MAR09292     -15.22         7  0.12%\n",
            "MAM02159e[e] MAR09358     -615.8         5  3.39%\n",
            "MAM02167e[e] MAR09360     -384.2        10  4.23%\n",
            "MAM02843e[e] MAR09406      -1000         5  5.50%\n",
            "MAM02961e[e] MAR09418     -507.8         2  1.12%\n",
            "MAM02997e[e] MAR09422     -991.5         5  5.45%\n",
            "MAM01989e[e] MAR09463     -507.8        26 14.52%\n",
            "MAM01410e[e] MAR09809     -2.138         4  0.01%\n",
            "MAM02120e[e] MAR09811      -1000         6  6.60%\n",
            "MAM02642e[e] MAR09813     -19.69         8  0.17%\n",
            "MAM02657e[e] MAR09921   -0.04654        10  0.00%\n",
            "MAM00105e[e] MAR09922      -1.71        25  0.05%\n",
            "MAM03971e[e] MAR10024     -187.4         0  0.00%\n",
            "MAM00235e[e] MAR10047      -2.54         5  0.01%\n",
            "MAM02603e[e] MAR11926     -315.5        11  3.82%\n",
            "MAM01759e[e] MAR11942     -394.7         5  2.17%\n",
            "MAM02929e[e] MAR11947     -164.1        18  3.25%\n",
            "MAM03209e[e] MAR12202     -195.2        24  5.15%\n",
            "\n"
          ]
        }
      ]
    },
    {
      "cell_type": "code",
      "source": [],
      "metadata": {
        "id": "QImrmuG1f10j"
      },
      "execution_count": null,
      "outputs": []
    },
    {
      "cell_type": "code",
      "source": [],
      "metadata": {
        "id": "bmkEQ5psfAmK"
      },
      "execution_count": null,
      "outputs": []
    },
    {
      "cell_type": "code",
      "source": [],
      "metadata": {
        "id": "-d-lSTDce9Ff"
      },
      "execution_count": null,
      "outputs": []
    },
    {
      "cell_type": "code",
      "source": [],
      "metadata": {
        "id": "Zz_e1kvFe5va"
      },
      "execution_count": null,
      "outputs": []
    },
    {
      "cell_type": "code",
      "source": [],
      "metadata": {
        "id": "hUjferHWcrzW"
      },
      "execution_count": null,
      "outputs": []
    },
    {
      "cell_type": "code",
      "execution_count": null,
      "metadata": {
        "colab": {
          "base_uri": "https://localhost:8080/",
          "height": 196
        },
        "id": "FCqUpz7NYgPg",
        "outputId": "e1c56dad-5fd8-40b9-cfd2-049a18068ade"
      },
      "outputs": [
        {
          "name": "stderr",
          "output_type": "stream",
          "text": [
            "usage: colab_kernel_launcher.py [-h] [--train_size TRAIN_SIZE] [--test_size TEST_SIZE]\n",
            "                                [--emb_dim EMB_DIM] [--conv_dim CONV_DIM] [--k K] [--p P]\n",
            "                                [--max_epoch MAX_EPOCH] [--lr LR] [--weight_decay WEIGHT_DECAY]\n",
            "colab_kernel_launcher.py: error: unrecognized arguments: -f /root/.local/share/jupyter/runtime/kernel-4f9db126-c955-49b6-add3-f157bac45c72.json\n"
          ]
        },
        {
          "ename": "SystemExit",
          "evalue": "2",
          "output_type": "error",
          "traceback": [
            "An exception has occurred, use %tb to see the full traceback.\n",
            "\u001b[0;31mSystemExit\u001b[0m\u001b[0;31m:\u001b[0m 2\n"
          ]
        }
      ],
      "source": [
        "from predict import *\n",
        "get_prediction_score(name = 'zimmerman')"
      ]
    },
    {
      "cell_type": "code",
      "execution_count": null,
      "metadata": {
        "id": "_qdNiHNLYvjC"
      },
      "outputs": [],
      "source": []
    },
    {
      "cell_type": "code",
      "execution_count": null,
      "metadata": {
        "id": "1qwzqBoTX9G4"
      },
      "outputs": [],
      "source": []
    },
    {
      "cell_type": "code",
      "execution_count": null,
      "metadata": {
        "id": "y_3MxgyHX34D"
      },
      "outputs": [],
      "source": []
    },
    {
      "cell_type": "code",
      "execution_count": null,
      "metadata": {
        "id": "dF3xRkLyPKgL"
      },
      "outputs": [],
      "source": []
    },
    {
      "cell_type": "code",
      "execution_count": null,
      "metadata": {
        "id": "JTNv4mX8O2RI"
      },
      "outputs": [],
      "source": []
    },
    {
      "cell_type": "code",
      "execution_count": null,
      "metadata": {
        "id": "BQwBlWDEOm7r"
      },
      "outputs": [],
      "source": []
    },
    {
      "cell_type": "code",
      "execution_count": null,
      "metadata": {
        "id": "N-hW3nt7OjgI"
      },
      "outputs": [],
      "source": []
    },
    {
      "cell_type": "code",
      "execution_count": null,
      "metadata": {
        "id": "Nm61FXaTOTVy"
      },
      "outputs": [],
      "source": []
    },
    {
      "cell_type": "code",
      "execution_count": null,
      "metadata": {
        "id": "c2NLm_PUOTX_"
      },
      "outputs": [],
      "source": []
    },
    {
      "cell_type": "code",
      "execution_count": null,
      "metadata": {
        "id": "RJJzHXovOTac"
      },
      "outputs": [],
      "source": []
    },
    {
      "cell_type": "code",
      "execution_count": null,
      "metadata": {
        "id": "lwC_Oe_ZOTcf"
      },
      "outputs": [],
      "source": []
    },
    {
      "cell_type": "code",
      "execution_count": null,
      "metadata": {
        "id": "Q_P-xwPGOTfF"
      },
      "outputs": [],
      "source": []
    }
  ],
  "metadata": {
    "colab": {
      "provenance": [],
      "mount_file_id": "1oRwQi2cjjKToNu9x1JPFbu_o_uXhhNQY",
      "authorship_tag": "ABX9TyOS1FLCXdHxMKifcyAyBRFs",
      "include_colab_link": true
    },
    "kernelspec": {
      "display_name": "Python 3",
      "name": "python3"
    },
    "language_info": {
      "name": "python"
    }
  },
  "nbformat": 4,
  "nbformat_minor": 0
}